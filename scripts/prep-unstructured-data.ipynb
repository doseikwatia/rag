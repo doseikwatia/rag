{
 "cells": [
  {
   "cell_type": "code",
   "execution_count": 1,
   "id": "508af09d",
   "metadata": {},
   "outputs": [
    {
     "name": "stderr",
     "output_type": "stream",
     "text": [
      "/Users/daniel/src/rag/.venv/lib/python3.12/site-packages/tqdm/auto.py:21: TqdmWarning: IProgress not found. Please update jupyter and ipywidgets. See https://ipywidgets.readthedocs.io/en/stable/user_install.html\n",
      "  from .autonotebook import tqdm as notebook_tqdm\n"
     ]
    }
   ],
   "source": [
    "from unstructured.chunking.title import chunk_by_title\n",
    "# from unstructured.partition.md import partition_md\n",
    "# from unstructured.partition.pptx import partition_pptx\n",
    "from unstructured.partition.pdf import partition_pdf\n",
    "from unstructured.staging.base import dict_to_elements"
   ]
  },
  {
   "cell_type": "code",
   "execution_count": 2,
   "id": "3703db31",
   "metadata": {},
   "outputs": [],
   "source": [
    "elements = partition_pdf(filename='../docs/ayawaso-west-wuogon-commission-of-inquiry-march-2019.pdf')"
   ]
  },
  {
   "cell_type": "code",
   "execution_count": 3,
   "id": "f1542ab8",
   "metadata": {},
   "outputs": [
    {
     "name": "stdout",
     "output_type": "stream",
     "text": [
      "1.1. The Commission recommends that the president should review and restructure the Ministry of National Security establishment with a view to ensuring clarity of responsibilities and roles as well as lines of reporting.\n"
     ]
    }
   ],
   "source": [
    "print(elements[3].to_dict()['text'])"
   ]
  },
  {
   "cell_type": "code",
   "execution_count": 4,
   "id": "4c12a916",
   "metadata": {},
   "outputs": [],
   "source": [
    "tables = [el for el in elements if el.category == \"Table\"]"
   ]
  },
  {
   "cell_type": "code",
   "execution_count": 5,
   "id": "b89ace1d",
   "metadata": {},
   "outputs": [],
   "source": [
    "chunks = chunk_by_title(elements, overlap=64,new_after_n_chars=384,max_characters=512)"
   ]
  },
  {
   "cell_type": "code",
   "execution_count": null,
   "id": "9a02856c",
   "metadata": {},
   "outputs": [
    {
     "name": "stdout",
     "output_type": "stream",
     "text": [
      "4. COMPENSATIONS\n",
      "\n",
      "4.1. The Commission recommends the payment of financial compensation to the following persons on the basis of injuries sustained by them arising out of the reckless gunshots by the SWAT team, and that is to say :\n",
      "\n",
      "1. Mr. Theophilus Sedofu\n",
      "\n",
      "2. Seidu Zaneh\n",
      "\n",
      "3.James Moore\n",
      "\n",
      "4. Mohammed Alhassan\n",
      "\n",
      "5. Ishawu Yaro\n",
      "\n",
      "4.2. The Commission recommends payment of compensation to the following persons for damage caused to their properties.\n"
     ]
    }
   ],
   "source": [
    "print(chunks[15].to_dict()['text'])"
   ]
  },
  {
   "cell_type": "code",
   "execution_count": 8,
   "id": "e6fe738b",
   "metadata": {},
   "outputs": [
    {
     "data": {
      "text/plain": [
       "'4. COMPENSATIONS\\n\\n4.1. The Commission recommends the payment of financial compensation to the following persons on the basis of injuries sustained by them arising out of the reckless gunshots by the SWAT team, and that is to say :\\n\\n1. Mr. Theophilus Sedofu\\n\\n2. Seidu Zaneh\\n\\n3.James Moore\\n\\n4. Mohammed Alhassan\\n\\n5. Ishawu Yaro\\n\\n4.2. The Commission recommends payment of compensation to the following persons for damage caused to their properties.'"
      ]
     },
     "execution_count": 8,
     "metadata": {},
     "output_type": "execute_result"
    }
   ],
   "source": [
    "chunks[15].text"
   ]
  },
  {
   "cell_type": "code",
   "execution_count": 14,
   "id": "d582545a",
   "metadata": {},
   "outputs": [
    {
     "data": {
      "text/plain": [
       "{'type': 'CompositeElement',\n",
       " 'element_id': '76f6a4bb-8d4d-4194-9190-de9010a01643',\n",
       " 'text': 'Short Commission Report\\n\\nRECOMMENDATIONS\\n\\n1. STRUCTURAL\\n\\n1.1. The Commission recommends that the president should review and restructure the Ministry of National Security establishment with a view to ensuring clarity of responsibilities and roles as well as lines of reporting.',\n",
       " 'metadata': {'file_directory': '../docs',\n",
       "  'filename': 'ayawaso-west-wuogon-commission-of-inquiry-march-2019.pdf',\n",
       "  'filetype': 'application/pdf',\n",
       "  'languages': ['eng'],\n",
       "  'last_modified': '2025-07-12T12:09:07',\n",
       "  'page_number': 1,\n",
       "  'orig_elements': 'eJztVcFuozAQ/RWLc3BtAwF6q7qVtlKbrpL0FFWRwUOwBDaLTVNU7b+vTdJVtI206qGn7gX8nt8M9swz3rwG0EALym6lCC5RQCNC47goOCNZlOVQJZGoiozleVymWSGCGQpasFxwy53+NSi17oVU3IKZcMNHPdhtDXJXW8ekOcPEBR35vRS2dvScHuhOS2V95GYTpQlmM0RjnD3N0BuMjjDJUpy+g5PY4cCMxkLrd/BDvkCz6ngJwS83UckGtkL2UFrdj16A8YXQpQmOk4q34Gk+8j03OtyDseF+0DutwlK3rTRGuqGuQql+DrIfw5b3ZR0yQnPcieotjx27Q56ua2TJrQu6OE43XO0GvpsqtAlA7YKniTV222ohKwlT7RlhSUjSkLI1ZZckvySpj+5c5FYNbQG9U1G/KQsvvrbBqta9Rdd/VomW0DnGR70t5ztw4QJd1N+tJq6rwjW2EGkWUcbLMhMsTjlJRMzmSfqJrabZHMczlM4x9c08wvwIo5Rg+g5O4q/V6onpP3A4T72xvLl+uL+/WXy7Wt8+LFannlhL28A5SySQZQWIiFRZTkVRkjKKqoLSuIpTkpTzT7REOjGU5Hjum36ELDlA6n4G9Aye5F/bFP88xqemoBit1svH6/Xj8uru1BJ30thbX8FzriBxxPO4iDJaMUhgTrKE8YjRpCgoY/HnuyLKcHziiizHzMM4j3B+Bk/y/674gCucL9Y1nN4krjQOgBIG2Zpb9wDU9WCkcB9BptZDI5zoWcIeceWHxvZDaYceJu29VM5S/Yh0hRbTvnmDVlAOvbQjcmJeNNLU3mZoL22NOJpyWY1AGadSO1Q2fFK7FC59p5WRhWyklWAO39SNHxm0h6bx70YqR0xyfw+6HPjU5Ave924pz7D2G//19BvbKcER'}}"
      ]
     },
     "execution_count": 14,
     "metadata": {},
     "output_type": "execute_result"
    }
   ],
   "source": [
    "chunks[0].to_dict()"
   ]
  },
  {
   "cell_type": "code",
   "execution_count": null,
   "id": "a0637c83",
   "metadata": {},
   "outputs": [],
   "source": []
  }
 ],
 "metadata": {
  "kernelspec": {
   "display_name": ".venv",
   "language": "python",
   "name": "python3"
  },
  "language_info": {
   "codemirror_mode": {
    "name": "ipython",
    "version": 3
   },
   "file_extension": ".py",
   "mimetype": "text/x-python",
   "name": "python",
   "nbconvert_exporter": "python",
   "pygments_lexer": "ipython3",
   "version": "3.12.9"
  }
 },
 "nbformat": 4,
 "nbformat_minor": 5
}
